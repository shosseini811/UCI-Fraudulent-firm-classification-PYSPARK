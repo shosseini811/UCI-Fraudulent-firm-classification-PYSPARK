{
 "cells": [
  {
   "cell_type": "code",
   "execution_count": 1,
   "metadata": {},
   "outputs": [],
   "source": [
    "from pyspark.sql import SparkSession\n",
    "spark = SparkSession.builder.appName('UCI Fraudulent firm classification').getOrCreate()"
   ]
  },
  {
   "cell_type": "code",
   "execution_count": 2,
   "metadata": {},
   "outputs": [],
   "source": [
    "trial  = spark.read.csv('trial.csv', inferSchema = True, header = True)"
   ]
  },
  {
   "cell_type": "code",
   "execution_count": 3,
   "metadata": {},
   "outputs": [
    {
     "name": "stdout",
     "output_type": "stream",
     "text": [
      "root\n",
      " |-- Sector_score: double (nullable = true)\n",
      " |-- LOCATION_ID: string (nullable = true)\n",
      " |-- PARA_A: double (nullable = true)\n",
      " |-- SCORE_A: integer (nullable = true)\n",
      " |-- PARA_B: double (nullable = true)\n",
      " |-- SCORE_B: integer (nullable = true)\n",
      " |-- TOTAL: double (nullable = true)\n",
      " |-- numbers: double (nullable = true)\n",
      " |-- Marks: integer (nullable = true)\n",
      " |-- Money_Value: double (nullable = true)\n",
      " |-- MONEY_Marks: integer (nullable = true)\n",
      " |-- District: integer (nullable = true)\n",
      " |-- Loss: integer (nullable = true)\n",
      " |-- LOSS_SCORE: integer (nullable = true)\n",
      " |-- History: integer (nullable = true)\n",
      " |-- History_score: integer (nullable = true)\n",
      " |-- Score: double (nullable = true)\n",
      " |-- Risk: integer (nullable = true)\n",
      "\n"
     ]
    }
   ],
   "source": [
    "trial.printSchema()"
   ]
  },
  {
   "cell_type": "code",
   "execution_count": 4,
   "metadata": {},
   "outputs": [
    {
     "data": {
      "text/html": [
       "<div>\n",
       "<style scoped>\n",
       "    .dataframe tbody tr th:only-of-type {\n",
       "        vertical-align: middle;\n",
       "    }\n",
       "\n",
       "    .dataframe tbody tr th {\n",
       "        vertical-align: top;\n",
       "    }\n",
       "\n",
       "    .dataframe thead th {\n",
       "        text-align: right;\n",
       "    }\n",
       "</style>\n",
       "<table border=\"1\" class=\"dataframe\">\n",
       "  <thead>\n",
       "    <tr style=\"text-align: right;\">\n",
       "      <th></th>\n",
       "      <th>0</th>\n",
       "      <th>1</th>\n",
       "      <th>2</th>\n",
       "      <th>3</th>\n",
       "      <th>4</th>\n",
       "    </tr>\n",
       "  </thead>\n",
       "  <tbody>\n",
       "    <tr>\n",
       "      <th>summary</th>\n",
       "      <td>count</td>\n",
       "      <td>mean</td>\n",
       "      <td>stddev</td>\n",
       "      <td>min</td>\n",
       "      <td>max</td>\n",
       "    </tr>\n",
       "    <tr>\n",
       "      <th>Sector_score</th>\n",
       "      <td>776</td>\n",
       "      <td>20.184536082474136</td>\n",
       "      <td>24.319017128722187</td>\n",
       "      <td>1.85</td>\n",
       "      <td>59.85</td>\n",
       "    </tr>\n",
       "    <tr>\n",
       "      <th>LOCATION_ID</th>\n",
       "      <td>776</td>\n",
       "      <td>14.856403622250971</td>\n",
       "      <td>9.891317488621631</td>\n",
       "      <td>1</td>\n",
       "      <td>SAFIDON</td>\n",
       "    </tr>\n",
       "    <tr>\n",
       "      <th>PARA_A</th>\n",
       "      <td>776</td>\n",
       "      <td>2.450194072164947</td>\n",
       "      <td>5.678870370534314</td>\n",
       "      <td>0.0</td>\n",
       "      <td>85.0</td>\n",
       "    </tr>\n",
       "    <tr>\n",
       "      <th>SCORE_A</th>\n",
       "      <td>776</td>\n",
       "      <td>3.5128865979381443</td>\n",
       "      <td>1.7405490917155328</td>\n",
       "      <td>2</td>\n",
       "      <td>6</td>\n",
       "    </tr>\n",
       "    <tr>\n",
       "      <th>PARA_B</th>\n",
       "      <td>776</td>\n",
       "      <td>10.799988402061862</td>\n",
       "      <td>50.0836236086675</td>\n",
       "      <td>0.0</td>\n",
       "      <td>1264.63</td>\n",
       "    </tr>\n",
       "    <tr>\n",
       "      <th>SCORE_B</th>\n",
       "      <td>776</td>\n",
       "      <td>3.131443298969072</td>\n",
       "      <td>1.6980416741362467</td>\n",
       "      <td>2</td>\n",
       "      <td>6</td>\n",
       "    </tr>\n",
       "    <tr>\n",
       "      <th>TOTAL</th>\n",
       "      <td>776</td>\n",
       "      <td>13.218481443298984</td>\n",
       "      <td>51.31282925864575</td>\n",
       "      <td>0.0</td>\n",
       "      <td>1268.91</td>\n",
       "    </tr>\n",
       "    <tr>\n",
       "      <th>numbers</th>\n",
       "      <td>776</td>\n",
       "      <td>5.067654639175258</td>\n",
       "      <td>0.26444862039735334</td>\n",
       "      <td>5.0</td>\n",
       "      <td>9.0</td>\n",
       "    </tr>\n",
       "    <tr>\n",
       "      <th>Marks</th>\n",
       "      <td>776</td>\n",
       "      <td>2.2371134020618557</td>\n",
       "      <td>0.8035173756240932</td>\n",
       "      <td>2</td>\n",
       "      <td>6</td>\n",
       "    </tr>\n",
       "    <tr>\n",
       "      <th>Money_Value</th>\n",
       "      <td>775</td>\n",
       "      <td>14.13763096774195</td>\n",
       "      <td>66.60651928510502</td>\n",
       "      <td>0.0</td>\n",
       "      <td>935.03</td>\n",
       "    </tr>\n",
       "    <tr>\n",
       "      <th>MONEY_Marks</th>\n",
       "      <td>776</td>\n",
       "      <td>2.9097938144329896</td>\n",
       "      <td>1.5974518285473995</td>\n",
       "      <td>2</td>\n",
       "      <td>6</td>\n",
       "    </tr>\n",
       "    <tr>\n",
       "      <th>District</th>\n",
       "      <td>776</td>\n",
       "      <td>2.5051546391752577</td>\n",
       "      <td>1.2286784830725832</td>\n",
       "      <td>2</td>\n",
       "      <td>6</td>\n",
       "    </tr>\n",
       "    <tr>\n",
       "      <th>Loss</th>\n",
       "      <td>776</td>\n",
       "      <td>0.029639175257731958</td>\n",
       "      <td>0.18427993771423978</td>\n",
       "      <td>0</td>\n",
       "      <td>2</td>\n",
       "    </tr>\n",
       "    <tr>\n",
       "      <th>LOSS_SCORE</th>\n",
       "      <td>776</td>\n",
       "      <td>2.0618556701030926</td>\n",
       "      <td>0.3750800823481034</td>\n",
       "      <td>2</td>\n",
       "      <td>6</td>\n",
       "    </tr>\n",
       "    <tr>\n",
       "      <th>History</th>\n",
       "      <td>776</td>\n",
       "      <td>0.10438144329896908</td>\n",
       "      <td>0.5310307725641172</td>\n",
       "      <td>0</td>\n",
       "      <td>9</td>\n",
       "    </tr>\n",
       "    <tr>\n",
       "      <th>History_score</th>\n",
       "      <td>776</td>\n",
       "      <td>2.167525773195876</td>\n",
       "      <td>0.6798687249799428</td>\n",
       "      <td>2</td>\n",
       "      <td>6</td>\n",
       "    </tr>\n",
       "    <tr>\n",
       "      <th>Score</th>\n",
       "      <td>776</td>\n",
       "      <td>2.7025773195876344</td>\n",
       "      <td>0.8589226900963522</td>\n",
       "      <td>2.0</td>\n",
       "      <td>5.2</td>\n",
       "    </tr>\n",
       "    <tr>\n",
       "      <th>Risk</th>\n",
       "      <td>776</td>\n",
       "      <td>0.6262886597938144</td>\n",
       "      <td>0.48410037794123534</td>\n",
       "      <td>0</td>\n",
       "      <td>1</td>\n",
       "    </tr>\n",
       "  </tbody>\n",
       "</table>\n",
       "</div>"
      ],
      "text/plain": [
       "                   0                     1                    2     3        4\n",
       "summary        count                  mean               stddev   min      max\n",
       "Sector_score     776    20.184536082474136   24.319017128722187  1.85    59.85\n",
       "LOCATION_ID      776    14.856403622250971    9.891317488621631     1  SAFIDON\n",
       "PARA_A           776     2.450194072164947    5.678870370534314   0.0     85.0\n",
       "SCORE_A          776    3.5128865979381443   1.7405490917155328     2        6\n",
       "PARA_B           776    10.799988402061862     50.0836236086675   0.0  1264.63\n",
       "SCORE_B          776     3.131443298969072   1.6980416741362467     2        6\n",
       "TOTAL            776    13.218481443298984    51.31282925864575   0.0  1268.91\n",
       "numbers          776     5.067654639175258  0.26444862039735334   5.0      9.0\n",
       "Marks            776    2.2371134020618557   0.8035173756240932     2        6\n",
       "Money_Value      775     14.13763096774195    66.60651928510502   0.0   935.03\n",
       "MONEY_Marks      776    2.9097938144329896   1.5974518285473995     2        6\n",
       "District         776    2.5051546391752577   1.2286784830725832     2        6\n",
       "Loss             776  0.029639175257731958  0.18427993771423978     0        2\n",
       "LOSS_SCORE       776    2.0618556701030926   0.3750800823481034     2        6\n",
       "History          776   0.10438144329896908   0.5310307725641172     0        9\n",
       "History_score    776     2.167525773195876   0.6798687249799428     2        6\n",
       "Score            776    2.7025773195876344   0.8589226900963522   2.0      5.2\n",
       "Risk             776    0.6262886597938144  0.48410037794123534     0        1"
      ]
     },
     "execution_count": 4,
     "metadata": {},
     "output_type": "execute_result"
    }
   ],
   "source": [
    "trial.describe().toPandas().transpose()"
   ]
  },
  {
   "cell_type": "code",
   "execution_count": 5,
   "metadata": {},
   "outputs": [
    {
     "data": {
      "text/plain": [
       "[('Sector_score', 'double'),\n",
       " ('LOCATION_ID', 'string'),\n",
       " ('PARA_A', 'double'),\n",
       " ('SCORE_A', 'int'),\n",
       " ('PARA_B', 'double'),\n",
       " ('SCORE_B', 'int'),\n",
       " ('TOTAL', 'double'),\n",
       " ('numbers', 'double'),\n",
       " ('Marks', 'int'),\n",
       " ('Money_Value', 'double'),\n",
       " ('MONEY_Marks', 'int'),\n",
       " ('District', 'int'),\n",
       " ('Loss', 'int'),\n",
       " ('LOSS_SCORE', 'int'),\n",
       " ('History', 'int'),\n",
       " ('History_score', 'int'),\n",
       " ('Score', 'double'),\n",
       " ('Risk', 'int')]"
      ]
     },
     "execution_count": 5,
     "metadata": {},
     "output_type": "execute_result"
    }
   ],
   "source": [
    "trial.dtypes\n"
   ]
  },
  {
   "cell_type": "code",
   "execution_count": 6,
   "metadata": {},
   "outputs": [],
   "source": [
    "trial= trial.na.fill(0)"
   ]
  },
  {
   "cell_type": "code",
   "execution_count": 7,
   "metadata": {},
   "outputs": [
    {
     "data": {
      "text/plain": [
       "['Sector_score',\n",
       " 'LOCATION_ID',\n",
       " 'PARA_A',\n",
       " 'SCORE_A',\n",
       " 'PARA_B',\n",
       " 'SCORE_B',\n",
       " 'TOTAL',\n",
       " 'numbers',\n",
       " 'Marks',\n",
       " 'Money_Value',\n",
       " 'MONEY_Marks',\n",
       " 'District',\n",
       " 'Loss',\n",
       " 'LOSS_SCORE',\n",
       " 'History',\n",
       " 'History_score',\n",
       " 'Score',\n",
       " 'Risk']"
      ]
     },
     "execution_count": 7,
     "metadata": {},
     "output_type": "execute_result"
    }
   ],
   "source": [
    "trial.columns"
   ]
  },
  {
   "cell_type": "code",
   "execution_count": 8,
   "metadata": {},
   "outputs": [],
   "source": [
    "from pyspark.ml.feature import VectorAssembler\n",
    "from pyspark.ml.feature import StandardScaler\n"
   ]
  },
  {
   "cell_type": "code",
   "execution_count": 9,
   "metadata": {},
   "outputs": [],
   "source": [
    "# Transform all features into a vector using VectorAssembler\n",
    "\n",
    "assemblerInputs = [ 'Sector_score',\n",
    " 'PARA_A',\n",
    " 'SCORE_A',\n",
    " 'PARA_B',\n",
    " 'SCORE_B',\n",
    " 'TOTAL',\n",
    " 'numbers',\n",
    " 'Marks',\n",
    " 'Money_Value',\n",
    " 'MONEY_Marks',\n",
    " 'District',\n",
    " 'Loss',\n",
    " 'LOSS_SCORE',\n",
    " 'History',\n",
    " 'History_score',\n",
    " 'Score',] \n",
    "\n",
    "assembler = VectorAssembler(inputCols=assemblerInputs, outputCol=\"features\")"
   ]
  },
  {
   "cell_type": "code",
   "execution_count": 10,
   "metadata": {},
   "outputs": [],
   "source": [
    "standardScaler = StandardScaler(inputCol=\"features\", outputCol=\"scaled_features\")\n"
   ]
  },
  {
   "cell_type": "code",
   "execution_count": 11,
   "metadata": {},
   "outputs": [],
   "source": [
    "from pyspark.ml.classification import GBTClassifier\n",
    "from pyspark.ml.feature import ChiSqSelector\n",
    "\n",
    "from pyspark.ml.classification import  RandomForestClassifier\n",
    "from pyspark.ml import Pipeline\n",
    "\n",
    "\n",
    "rf = RandomForestClassifier(labelCol=\"Risk\", featuresCol=\"scaled_features\", seed = 72,\n",
    "                            numTrees=10, cacheNodeIds = True)\n",
    "\n",
    "#from pyspark.ml.classification import LogisticRegression\n"
   ]
  },
  {
   "cell_type": "code",
   "execution_count": 12,
   "metadata": {},
   "outputs": [],
   "source": [
    "pipeline = Pipeline(stages=[assembler, standardScaler, rf])"
   ]
  },
  {
   "cell_type": "code",
   "execution_count": 13,
   "metadata": {},
   "outputs": [],
   "source": [
    "train, test = trial.randomSplit([0.7, 0.3], seed = 42)\n"
   ]
  },
  {
   "cell_type": "code",
   "execution_count": 14,
   "metadata": {},
   "outputs": [],
   "source": [
    "fit_model = pipeline.fit(train)"
   ]
  },
  {
   "cell_type": "code",
   "execution_count": 15,
   "metadata": {},
   "outputs": [
    {
     "data": {
      "text/plain": [
       "[VectorAssembler_11a56d2a33b2,\n",
       " StandardScaler_62843cae57e2,\n",
       " RandomForestClassificationModel (uid=RandomForestClassifier_20f82e9ff082) with 10 trees]"
      ]
     },
     "execution_count": 15,
     "metadata": {},
     "output_type": "execute_result"
    }
   ],
   "source": [
    "fit_model.stages[:]"
   ]
  },
  {
   "cell_type": "code",
   "execution_count": 18,
   "metadata": {},
   "outputs": [
    {
     "data": {
      "image/png": "[encoded data removed]",
      "text/plain": [
       "<Figure size 504x504 with 1 Axes>"
      ]
     },
     "metadata": {
      "needs_background": "light"
     },
     "output_type": "display_data"
    }
   ],
   "source": [
    "#Feature Importance\n",
    "import matplotlib.pyplot as plt\n",
    "plt.figure(figsize=(7,7))\n",
    "plt.bar(assemblerInputs, list(fit_model.stages[-1].featureImportances), color='red')\n",
    "plt.xticks(rotation=90)\n",
    "\n",
    "plt.show()"
   ]
  },
  {
   "cell_type": "code",
   "execution_count": 19,
   "metadata": {},
   "outputs": [],
   "source": [
    "results = fit_model.transform(test)"
   ]
  },
  {
   "cell_type": "code",
   "execution_count": 21,
   "metadata": {},
   "outputs": [
    {
     "data": {
      "text/plain": [
       "['PARA_A', 'PARA_B', 'TOTAL', 'District', 'Score']"
      ]
     },
     "execution_count": 21,
     "metadata": {},
     "output_type": "execute_result"
    }
   ],
   "source": [
    "import pandas as pd\n",
    "importance_list = pd.Series(list(fit_model.stages[-1].featureImportances))\n",
    "main_features = []\n",
    "importance_list\n",
    "for index, value in enumerate(importance_list):\n",
    "    if value>0.03:\n",
    "        main_features.append(assemblerInputs[index])\n",
    "main_features\n",
    "    "
   ]
  },
  {
   "cell_type": "code",
   "execution_count": 23,
   "metadata": {},
   "outputs": [
    {
     "data": {
      "text/html": [
       "<div>\n",
       "<style scoped>\n",
       "    .dataframe tbody tr th:only-of-type {\n",
       "        vertical-align: middle;\n",
       "    }\n",
       "\n",
       "    .dataframe tbody tr th {\n",
       "        vertical-align: top;\n",
       "    }\n",
       "\n",
       "    .dataframe thead th {\n",
       "        text-align: right;\n",
       "    }\n",
       "</style>\n",
       "<table border=\"1\" class=\"dataframe\">\n",
       "  <thead>\n",
       "    <tr style=\"text-align: right;\">\n",
       "      <th></th>\n",
       "      <th>features</th>\n",
       "      <th>scaled_features</th>\n",
       "    </tr>\n",
       "  </thead>\n",
       "  <tbody>\n",
       "    <tr>\n",
       "      <th>0</th>\n",
       "      <td>[1.85, 1.69, 4.0, 0.21, 2.0, 1.9, 5.0, 2.0, 0....</td>\n",
       "      <td>[0.07647437986638064, 0.3029177315923537, 2.28...</td>\n",
       "    </tr>\n",
       "    <tr>\n",
       "      <th>1</th>\n",
       "      <td>[1.85, 10.02, 6.0, 0.95, 2.0, 10.97, 5.0, 2.0,...</td>\n",
       "      <td>[0.07647437986638064, 1.795997438198452, 3.433...</td>\n",
       "    </tr>\n",
       "    <tr>\n",
       "      <th>2</th>\n",
       "      <td>[1.85, 0.6, 2.0, 1.14, 4.0, 1.74, 5.0, 2.0, 0....</td>\n",
       "      <td>[0.07647437986638064, 0.10754475677835042, 1.1...</td>\n",
       "    </tr>\n",
       "    <tr>\n",
       "      <th>3</th>\n",
       "      <td>[1.85, 9.94, 6.0, 0.44, 2.0, 10.38, 5.0, 2.0, ...</td>\n",
       "      <td>[0.07647437986638064, 1.781658137294672, 3.433...</td>\n",
       "    </tr>\n",
       "    <tr>\n",
       "      <th>4</th>\n",
       "      <td>[1.85, 3.83, 6.0, 0.28, 2.0, 4.11, 5.0, 2.0, 0...</td>\n",
       "      <td>[0.07647437986638064, 0.6864940307684703, 3.43...</td>\n",
       "    </tr>\n",
       "  </tbody>\n",
       "</table>\n",
       "</div>"
      ],
      "text/plain": [
       "                                            features  \\\n",
       "0  [1.85, 1.69, 4.0, 0.21, 2.0, 1.9, 5.0, 2.0, 0....   \n",
       "1  [1.85, 10.02, 6.0, 0.95, 2.0, 10.97, 5.0, 2.0,...   \n",
       "2  [1.85, 0.6, 2.0, 1.14, 4.0, 1.74, 5.0, 2.0, 0....   \n",
       "3  [1.85, 9.94, 6.0, 0.44, 2.0, 10.38, 5.0, 2.0, ...   \n",
       "4  [1.85, 3.83, 6.0, 0.28, 2.0, 4.11, 5.0, 2.0, 0...   \n",
       "\n",
       "                                     scaled_features  \n",
       "0  [0.07647437986638064, 0.3029177315923537, 2.28...  \n",
       "1  [0.07647437986638064, 1.795997438198452, 3.433...  \n",
       "2  [0.07647437986638064, 0.10754475677835042, 1.1...  \n",
       "3  [0.07647437986638064, 1.781658137294672, 3.433...  \n",
       "4  [0.07647437986638064, 0.6864940307684703, 3.43...  "
      ]
     },
     "execution_count": 23,
     "metadata": {},
     "output_type": "execute_result"
    }
   ],
   "source": [
    "results.select(\"features\",\"scaled_features\").toPandas().head()"
   ]
  },
  {
   "cell_type": "code",
   "execution_count": 24,
   "metadata": {},
   "outputs": [],
   "source": [
    "from pyspark.ml.evaluation import BinaryClassificationEvaluator"
   ]
  },
  {
   "cell_type": "code",
   "execution_count": 25,
   "metadata": {},
   "outputs": [],
   "source": [
    "my_eval = BinaryClassificationEvaluator(rawPredictionCol='prediction',\n",
    "                                       labelCol='Risk')"
   ]
  },
  {
   "cell_type": "code",
   "execution_count": 26,
   "metadata": {},
   "outputs": [
    {
     "data": {
      "text/plain": [
       "1.0"
      ]
     },
     "execution_count": 26,
     "metadata": {},
     "output_type": "execute_result"
    }
   ],
   "source": [
    "my_eval.evaluate(results, {my_eval.metricName: 'areaUnderROC'})"
   ]
  },
  {
   "cell_type": "code",
   "execution_count": null,
   "metadata": {},
   "outputs": [],
   "source": []
  }
 ],
 "metadata": {
  "kernelspec": {
   "display_name": "Python 3",
   "language": "python",
   "name": "python3"
  },
  "language_info": {
   "codemirror_mode": {
    "name": "ipython",
    "version": 3
   },
   "file_extension": ".py",
   "mimetype": "text/x-python",
   "name": "python",
   "nbconvert_exporter": "python",
   "pygments_lexer": "ipython3",
   "version": "3.7.3"
  }
 },
 "nbformat": 4,
 "nbformat_minor": 2
}
